{
 "cells": [
  {
   "cell_type": "code",
   "execution_count": 1,
   "id": "9f065d26-dd6c-4333-aa3f-09ac396a6234",
   "metadata": {},
   "outputs": [],
   "source": [
    "import pandas as pd\n",
    "import os"
   ]
  },
  {
   "cell_type": "code",
   "execution_count": 3,
   "id": "27139f1a-b5f6-4f41-8470-4a0418d91c84",
   "metadata": {},
   "outputs": [],
   "source": [
    "# path setting\n",
    "data_folder = r\"C:\\Users\\saru8\\OneDrive\\Documents\\DeliverIQ\\data\"\n",
    "csv_file = os.path.join(data_folder, \"supply_chain_merged.csv\")"
   ]
  },
  {
   "cell_type": "code",
   "execution_count": 5,
   "id": "34321087-c127-4654-bd19-c455959356c4",
   "metadata": {},
   "outputs": [],
   "source": [
    "# output folder for cleaned dataset\n",
    "output_folder = r\"C:\\Users\\saru8\\OneDrive\\Documents\\DeliverIQ\\outputs\"\n",
    "os.makedirs(output_folder, exist_ok=True)\n",
    "output_csv = os.path.join(output_folder, \"supply_chain_prepared.csv\")"
   ]
  },
  {
   "cell_type": "code",
   "execution_count": 6,
   "id": "3448840e-5159-4f7e-874a-818439508d77",
   "metadata": {},
   "outputs": [
    {
     "name": "stdout",
     "output_type": "stream",
     "text": [
      "Dataset loaded successfully!\n",
      "\n"
     ]
    }
   ],
   "source": [
    "# Loading CSV\n",
    "df = pd.read_csv(csv_file)\n",
    "print(\"Dataset loaded successfully!\\n\")"
   ]
  },
  {
   "cell_type": "code",
   "execution_count": 7,
   "id": "b3ded3c5-84f8-4a05-b2e0-b08a2acdcd82",
   "metadata": {},
   "outputs": [
    {
     "name": "stdout",
     "output_type": "stream",
     "text": [
      "First 5 rows:\n",
      "    Order_ID  Order_Date   Ship_Date Planned_Delivery_Date  \\\n",
      "0  ORD100000  13-04-2025  13-04-2025            19-04-2025   \n",
      "1  ORD100001  17-04-2025  18-04-2025            25-04-2025   \n",
      "2  ORD100002  13-03-2025  13-03-2025            20-03-2025   \n",
      "3  ORD100003  08-07-2025  08-07-2025            12-07-2025   \n",
      "4  ORD100004  21-01-2025  22-01-2025            29-01-2025   \n",
      "\n",
      "  Actual_Delivery_Date  Delay_Days     Product     Supplier     Region  \\\n",
      "0           19-04-2025           0  Product_44  Supplier_26  Hyderabad   \n",
      "1           28-04-2025           3  Product_46  Supplier_13      North   \n",
      "2           22-03-2025           2  Product_97  Supplier_13       West   \n",
      "3           14-07-2025           2  Product_98   Supplier_2  Bengaluru   \n",
      "4           31-01-2025           2  Product_68  Supplier_27  Hyderabad   \n",
      "\n",
      "  Warehouse  ...  Revenue  Transport_Mode     Courier Damage_Report  \\\n",
      "0     WH_10  ...  1177.51            Road  Courier_78             0   \n",
      "1      WH_9  ...  2134.11            Road  Courier_15             0   \n",
      "2      WH_4  ...  2095.40            Road  Courier_39             0   \n",
      "3      WH_4  ...   862.66            Road   Courier_3             0   \n",
      "4      WH_9  ...   580.24            Road  Courier_44             0   \n",
      "\n",
      "  Last_Mile_Events  Last_Mile_Duration_hours  On_Time  Lead_Time_days  \\\n",
      "0                3                      90.5        1               6   \n",
      "1                5                      28.4        0              11   \n",
      "2                6                      46.2        0               9   \n",
      "3                5                      78.6        0               6   \n",
      "4                2                      40.1        0              10   \n",
      "\n",
      "   Cost_per_unit  Supplier_Reliability_Score  \n",
      "0         184.98                       0.398  \n",
      "1         154.44                       0.226  \n",
      "2         177.52                       0.226  \n",
      "3          95.18                       0.399  \n",
      "4          54.44                       0.415  \n",
      "\n",
      "[5 rows x 22 columns]\n",
      "\n",
      "Dataset info:\n",
      "<class 'pandas.core.frame.DataFrame'>\n",
      "RangeIndex: 20000 entries, 0 to 19999\n",
      "Data columns (total 22 columns):\n",
      " #   Column                      Non-Null Count  Dtype  \n",
      "---  ------                      --------------  -----  \n",
      " 0   Order_ID                    20000 non-null  object \n",
      " 1   Order_Date                  20000 non-null  object \n",
      " 2   Ship_Date                   20000 non-null  object \n",
      " 3   Planned_Delivery_Date       20000 non-null  object \n",
      " 4   Actual_Delivery_Date        20000 non-null  object \n",
      " 5   Delay_Days                  20000 non-null  int64  \n",
      " 6   Product                     20000 non-null  object \n",
      " 7   Supplier                    20000 non-null  object \n",
      " 8   Region                      20000 non-null  object \n",
      " 9   Warehouse                   20000 non-null  object \n",
      " 10  Quantity                    20000 non-null  int64  \n",
      " 11  Cost                        20000 non-null  float64\n",
      " 12  Revenue                     20000 non-null  float64\n",
      " 13  Transport_Mode              20000 non-null  object \n",
      " 14  Courier                     20000 non-null  object \n",
      " 15  Damage_Report               20000 non-null  int64  \n",
      " 16  Last_Mile_Events            20000 non-null  int64  \n",
      " 17  Last_Mile_Duration_hours    20000 non-null  float64\n",
      " 18  On_Time                     20000 non-null  int64  \n",
      " 19  Lead_Time_days              20000 non-null  int64  \n",
      " 20  Cost_per_unit               20000 non-null  float64\n",
      " 21  Supplier_Reliability_Score  20000 non-null  float64\n",
      "dtypes: float64(5), int64(6), object(11)\n",
      "memory usage: 3.4+ MB\n",
      "None\n"
     ]
    }
   ],
   "source": [
    "# Preview dataset\n",
    "print(\"First 5 rows:\")\n",
    "print(df.head())\n",
    "print(\"\\nDataset info:\")\n",
    "print(df.info())"
   ]
  },
  {
   "cell_type": "code",
   "execution_count": 8,
   "id": "3d81bc8d-b94d-4b3d-9fb6-4ec9a77cce98",
   "metadata": {},
   "outputs": [
    {
     "name": "stderr",
     "output_type": "stream",
     "text": [
      "C:\\Users\\saru8\\AppData\\Local\\Temp\\ipykernel_19652\\2858708526.py:4: UserWarning: Parsing dates in %d-%m-%Y format when dayfirst=False (the default) was specified. Pass `dayfirst=True` or specify a format to silence this warning.\n",
      "  df[col] = pd.to_datetime(df[col], errors='coerce')\n",
      "C:\\Users\\saru8\\AppData\\Local\\Temp\\ipykernel_19652\\2858708526.py:4: UserWarning: Parsing dates in %d-%m-%Y format when dayfirst=False (the default) was specified. Pass `dayfirst=True` or specify a format to silence this warning.\n",
      "  df[col] = pd.to_datetime(df[col], errors='coerce')\n",
      "C:\\Users\\saru8\\AppData\\Local\\Temp\\ipykernel_19652\\2858708526.py:4: UserWarning: Parsing dates in %d-%m-%Y format when dayfirst=False (the default) was specified. Pass `dayfirst=True` or specify a format to silence this warning.\n",
      "  df[col] = pd.to_datetime(df[col], errors='coerce')\n",
      "C:\\Users\\saru8\\AppData\\Local\\Temp\\ipykernel_19652\\2858708526.py:4: UserWarning: Parsing dates in %d-%m-%Y format when dayfirst=False (the default) was specified. Pass `dayfirst=True` or specify a format to silence this warning.\n",
      "  df[col] = pd.to_datetime(df[col], errors='coerce')\n"
     ]
    }
   ],
   "source": [
    "# Convert date columns\n",
    "date_cols = ['Order_Date', 'Ship_Date', 'Planned_Delivery_Date', 'Actual_Delivery_Date']\n",
    "for col in date_cols:\n",
    "    df[col] = pd.to_datetime(df[col], errors='coerce')"
   ]
  },
  {
   "cell_type": "code",
   "execution_count": 9,
   "id": "ac135cb5-2e2a-4354-aa0c-f731ddcfa877",
   "metadata": {},
   "outputs": [],
   "source": [
    "date_cols = ['Order_Date', 'Ship_Date', 'Planned_Delivery_Date', 'Actual_Delivery_Date']\n",
    "for col in date_cols:\n",
    "    df[col] = pd.to_datetime(df[col], dayfirst=True, errors='coerce')"
   ]
  },
  {
   "cell_type": "code",
   "execution_count": 10,
   "id": "13a4f416-7339-48ce-8278-a7eb0480cb48",
   "metadata": {},
   "outputs": [],
   "source": [
    "# Delay in days\n",
    "df['Delay_Days'] = (df['Actual_Delivery_Date'] - df['Planned_Delivery_Date']).dt.days"
   ]
  },
  {
   "cell_type": "code",
   "execution_count": 11,
   "id": "a3002247-627f-4234-ba1c-34cdcfdd1be0",
   "metadata": {},
   "outputs": [],
   "source": [
    "# On-Time delivery flag\n",
    "df['On_Time'] = df['Delay_Days'].apply(lambda x: 1 if x <= 0 else 0)"
   ]
  },
  {
   "cell_type": "code",
   "execution_count": 12,
   "id": "c253e190-1f78-4ffa-9bab-aa1627ecfff3",
   "metadata": {},
   "outputs": [],
   "source": [
    "# Lead time in days\n",
    "df['Lead_Time_days'] = (df['Actual_Delivery_Date'] - df['Order_Date']).dt.days"
   ]
  },
  {
   "cell_type": "code",
   "execution_count": 13,
   "id": "5a627112-e9c6-437b-98bd-d9d7640306c2",
   "metadata": {},
   "outputs": [],
   "source": [
    "# Cost per unit\n",
    "df['Cost_per_unit'] = df['Cost'] / df['Quantity']"
   ]
  },
  {
   "cell_type": "code",
   "execution_count": 14,
   "id": "62ee86ea-15a2-4402-a026-229c1086525e",
   "metadata": {},
   "outputs": [
    {
     "name": "stdout",
     "output_type": "stream",
     "text": [
      "\n",
      "--- Key KPIs ---\n",
      "On-Time Delivery %: 19.91%\n"
     ]
    }
   ],
   "source": [
    "# Calculate KPIs\n",
    "print(\"\\n--- Key KPIs ---\")\n",
    "# On-Time %\n",
    "on_time_pct = df['On_Time'].mean() * 100\n",
    "print(f\"On-Time Delivery %: {on_time_pct:.2f}%\")"
   ]
  },
  {
   "cell_type": "code",
   "execution_count": 15,
   "id": "f047fd3c-e207-4e99-bad5-5f4dcfdcdc07",
   "metadata": {},
   "outputs": [
    {
     "name": "stdout",
     "output_type": "stream",
     "text": [
      "Average Lead Time (days): 8.92\n"
     ]
    }
   ],
   "source": [
    "# Average Lead Time\n",
    "avg_lead_time = df['Lead_Time_days'].mean()\n",
    "print(f\"Average Lead Time (days): {avg_lead_time:.2f}\")"
   ]
  },
  {
   "cell_type": "code",
   "execution_count": 16,
   "id": "cda45c7a-71df-4f5b-a0cf-d98f653beccf",
   "metadata": {},
   "outputs": [
    {
     "name": "stdout",
     "output_type": "stream",
     "text": [
      "Average Delay Days: 2.25\n"
     ]
    }
   ],
   "source": [
    "# Average Delay Days (only delayed orders)\n",
    "avg_delay_days = df.loc[df['Delay_Days'] > 0, 'Delay_Days'].mean()\n",
    "print(f\"Average Delay Days: {avg_delay_days:.2f}\")"
   ]
  },
  {
   "cell_type": "code",
   "execution_count": 17,
   "id": "acf59506-64b5-4b63-91f6-1102aff121ec",
   "metadata": {},
   "outputs": [
    {
     "name": "stdout",
     "output_type": "stream",
     "text": [
      "Average Cost per Delivery: 1384.92\n"
     ]
    }
   ],
   "source": [
    "# Average Cost per Delivery\n",
    "avg_cost_per_delivery = df['Cost'].mean()\n",
    "print(f\"Average Cost per Delivery: {avg_cost_per_delivery:.2f}\")"
   ]
  },
  {
   "cell_type": "code",
   "execution_count": 18,
   "id": "dde482a7-cfa2-4cdc-af8f-2f8356961aae",
   "metadata": {},
   "outputs": [
    {
     "name": "stdout",
     "output_type": "stream",
     "text": [
      "\n",
      "Supplier Reliability Index (% on-time):\n",
      "Supplier\n",
      "Supplier_14    34.883721\n",
      "Supplier_16    32.000000\n",
      "Supplier_22    30.852995\n",
      "Supplier_12    30.409357\n",
      "Supplier_27    29.806714\n",
      "Supplier_26    29.514563\n",
      "Supplier_28    28.985507\n",
      "Supplier_15    28.959276\n",
      "Supplier_19    28.495102\n",
      "Supplier_21    28.351648\n",
      "Supplier_29    27.903469\n",
      "Supplier_6     27.639155\n",
      "Supplier_8     27.385892\n",
      "Supplier_11    27.321669\n",
      "Supplier_2     26.937046\n",
      "Supplier_18    26.891253\n",
      "Supplier_30    26.229508\n",
      "Supplier_4     25.910364\n",
      "Supplier_1     25.870647\n",
      "Supplier_23    25.401460\n",
      "Supplier_9      5.128205\n",
      "Supplier_7      3.928571\n",
      "Supplier_20     3.805774\n",
      "Supplier_3      3.203661\n",
      "Supplier_24     3.035144\n",
      "Supplier_10     2.923977\n",
      "Supplier_5      2.752294\n",
      "Supplier_13     0.000000\n",
      "Supplier_17     0.000000\n",
      "Supplier_25     0.000000\n",
      "Name: On_Time, dtype: float64\n"
     ]
    }
   ],
   "source": [
    "# Supplier Reliability Index\n",
    "supplier_reliability = df.groupby('Supplier')['On_Time'].mean() * 100\n",
    "print(\"\\nSupplier Reliability Index (% on-time):\")\n",
    "print(supplier_reliability.sort_values(ascending=False))"
   ]
  },
  {
   "cell_type": "code",
   "execution_count": 19,
   "id": "3d683b9e-c5f9-4893-9859-206e4d6833d7",
   "metadata": {},
   "outputs": [
    {
     "name": "stdout",
     "output_type": "stream",
     "text": [
      "\n",
      "Prepared dataset saved at: C:\\Users\\saru8\\OneDrive\\Documents\\DeliverIQ\\outputs\\supply_chain_prepared.csv\n"
     ]
    }
   ],
   "source": [
    "# Saving cleaned dataset\n",
    "df.to_csv(output_csv, index=False)\n",
    "print(f\"\\nPrepared dataset saved at: {output_csv}\")"
   ]
  },
  {
   "cell_type": "code",
   "execution_count": 20,
   "id": "2a1e4c3d-b446-44df-8cbb-5de5de56a8f9",
   "metadata": {},
   "outputs": [
    {
     "name": "stdout",
     "output_type": "stream",
     "text": [
      "    Order_ID  Order_Date   Ship_Date Planned_Delivery_Date  \\\n",
      "0  ORD100000  2025-04-13  2025-04-13            2025-04-19   \n",
      "1  ORD100001  2025-04-17  2025-04-18            2025-04-25   \n",
      "2  ORD100002  2025-03-13  2025-03-13            2025-03-20   \n",
      "3  ORD100003  2025-07-08  2025-07-08            2025-07-12   \n",
      "4  ORD100004  2025-01-21  2025-01-22            2025-01-29   \n",
      "\n",
      "  Actual_Delivery_Date  Delay_Days     Product     Supplier     Region  \\\n",
      "0           2025-04-19           0  Product_44  Supplier_26  Hyderabad   \n",
      "1           2025-04-28           3  Product_46  Supplier_13      North   \n",
      "2           2025-03-22           2  Product_97  Supplier_13       West   \n",
      "3           2025-07-14           2  Product_98   Supplier_2  Bengaluru   \n",
      "4           2025-01-31           2  Product_68  Supplier_27  Hyderabad   \n",
      "\n",
      "  Warehouse  ...  Revenue  Transport_Mode     Courier Damage_Report  \\\n",
      "0     WH_10  ...  1177.51            Road  Courier_78             0   \n",
      "1      WH_9  ...  2134.11            Road  Courier_15             0   \n",
      "2      WH_4  ...  2095.40            Road  Courier_39             0   \n",
      "3      WH_4  ...   862.66            Road   Courier_3             0   \n",
      "4      WH_9  ...   580.24            Road  Courier_44             0   \n",
      "\n",
      "  Last_Mile_Events  Last_Mile_Duration_hours  On_Time  Lead_Time_days  \\\n",
      "0                3                      90.5        1               6   \n",
      "1                5                      28.4        0              11   \n",
      "2                6                      46.2        0               9   \n",
      "3                5                      78.6        0               6   \n",
      "4                2                      40.1        0              10   \n",
      "\n",
      "   Cost_per_unit  Supplier_Reliability_Score  \n",
      "0         184.98                       0.398  \n",
      "1         154.44                       0.226  \n",
      "2         177.52                       0.226  \n",
      "3          95.18                       0.399  \n",
      "4          54.44                       0.415  \n",
      "\n",
      "[5 rows x 22 columns]\n",
      "Index(['Order_ID', 'Order_Date', 'Ship_Date', 'Planned_Delivery_Date',\n",
      "       'Actual_Delivery_Date', 'Delay_Days', 'Product', 'Supplier', 'Region',\n",
      "       'Warehouse', 'Quantity', 'Cost', 'Revenue', 'Transport_Mode', 'Courier',\n",
      "       'Damage_Report', 'Last_Mile_Events', 'Last_Mile_Duration_hours',\n",
      "       'On_Time', 'Lead_Time_days', 'Cost_per_unit',\n",
      "       'Supplier_Reliability_Score'],\n",
      "      dtype='object')\n"
     ]
    }
   ],
   "source": [
    "# Check that these columns exist:\n",
    "import pandas as pd\n",
    "\n",
    "output_csv = r\"C:\\Users\\saru8\\OneDrive\\Documents\\DeliverIQ\\outputs\\supply_chain_prepared.csv\"\n",
    "df = pd.read_csv(output_csv)\n",
    "\n",
    "print(df.head())\n",
    "print(df.columns)"
   ]
  },
  {
   "cell_type": "code",
   "execution_count": null,
   "id": "d210066c-b3e5-40cd-8960-386c80ccf849",
   "metadata": {},
   "outputs": [],
   "source": []
  }
 ],
 "metadata": {
  "kernelspec": {
   "display_name": "Python 3 (ipykernel)",
   "language": "python",
   "name": "python3"
  },
  "language_info": {
   "codemirror_mode": {
    "name": "ipython",
    "version": 3
   },
   "file_extension": ".py",
   "mimetype": "text/x-python",
   "name": "python",
   "nbconvert_exporter": "python",
   "pygments_lexer": "ipython3",
   "version": "3.13.5"
  }
 },
 "nbformat": 4,
 "nbformat_minor": 5
}
